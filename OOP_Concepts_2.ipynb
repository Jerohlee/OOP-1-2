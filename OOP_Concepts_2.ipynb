{
  "nbformat": 4,
  "nbformat_minor": 0,
  "metadata": {
    "colab": {
      "name": "OOP Concepts 2.ipynb",
      "provenance": [],
      "authorship_tag": "ABX9TyOrulWqsALbHjwkSS2gYf7P",
      "include_colab_link": true
    },
    "kernelspec": {
      "name": "python3",
      "display_name": "Python 3"
    },
    "language_info": {
      "name": "python"
    }
  },
  "cells": [
    {
      "cell_type": "markdown",
      "metadata": {
        "id": "view-in-github",
        "colab_type": "text"
      },
      "source": [
        "<a href=\"https://colab.research.google.com/github/Jerohlee/OOP-1-2/blob/main/OOP_Concepts_2.ipynb\" target=\"_parent\"><img src=\"https://colab.research.google.com/assets/colab-badge.svg\" alt=\"Open In Colab\"/></a>"
      ]
    },
    {
      "cell_type": "code",
      "execution_count": 4,
      "metadata": {
        "colab": {
          "base_uri": "https://localhost:8080/"
        },
        "id": "tPxKVGciT3ca",
        "outputId": "34c6379a-cb81-4c3d-a121-c97d534619b3"
      },
      "outputs": [
        {
          "output_type": "stream",
          "name": "stdout",
          "text": [
            "Enter your name to see your grades.\n",
            "Name: Jeroh Lee\n",
            "Prelim: 96\n",
            "Mid Term: 98\n",
            "Finals: 95\n",
            "Your Final Grade: 96.33 \n",
            "\n"
          ]
        }
      ],
      "source": [
        "class Person:\n",
        "  def __init__(self,name,pre,mid,fin):\n",
        "    self.__name = name\n",
        "    self.__pre = pre\n",
        "    self.__mid = mid\n",
        "    self.__fin = fin\n",
        "  \n",
        "  def Grade(self):\n",
        "    Ave = 0 \n",
        "    Ave = (self.__pre + self.__mid + self.__fin)/3\n",
        "    print(\"Prelim:\",self.__pre)\n",
        "    print(\"Mid Term:\",self.__mid)\n",
        "    print(\"Finals:\",self.__fin)\n",
        "    print(\"Your Final Grade:\", round(Ave,2), \"\\n\")\n",
        "\n",
        "class std1(Person):\n",
        "  pass\n",
        "class std2(Person):\n",
        "  pass\n",
        "class std3(Person):\n",
        "  pass\n",
        "\n",
        "std1 = std1(\"Jeroh Lee\", 96, 98,95)\n",
        "std2 = std2(\"Nanase Lily\", 99, 98, 97)\n",
        "std3 = std3(\"Lee Mojii\", 85, 86,88)\n",
        "\n",
        "\n",
        "print(\"Enter your name to see your grades.\")\n",
        "x = input(\"Name: \")\n",
        "\n",
        "if x == \"Jeroh Lee\":\n",
        "  std1.Grade()\n",
        "\n",
        "elif x == \"Nanase Lily\":\n",
        "  std2.Grade()\n",
        "\n",
        "elif x == \"Lee Mojii\":\n",
        "  std3.Grade()\n",
        "\n",
        "else:\n",
        "  print(\"Your grades are not yet stored.\")\n"
      ]
    }
  ]
}