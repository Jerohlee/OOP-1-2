{
  "nbformat": 4,
  "nbformat_minor": 0,
  "metadata": {
    "colab": {
      "name": "Activity 2.ipynb",
      "provenance": [],
      "authorship_tag": "ABX9TyMA1x7LbV/TtCHVdQPZZRpC",
      "include_colab_link": true
    },
    "kernelspec": {
      "name": "python3",
      "display_name": "Python 3"
    },
    "language_info": {
      "name": "python"
    }
  },
  "cells": [
    {
      "cell_type": "markdown",
      "metadata": {
        "id": "view-in-github",
        "colab_type": "text"
      },
      "source": [
        "<a href=\"https://colab.research.google.com/github/Jerohlee/OOP-1-2/blob/main/Activity_2.ipynb\" target=\"_parent\"><img src=\"https://colab.research.google.com/assets/colab-badge.svg\" alt=\"Open In Colab\"/></a>"
      ]
    },
    {
      "cell_type": "code",
      "execution_count": null,
      "metadata": {
        "colab": {
          "base_uri": "https://localhost:8080/"
        },
        "id": "4D4sKFL0W5DB",
        "outputId": "c95e61b8-ddd8-4206-dd8f-5fe4bc3ac3fa"
      },
      "outputs": [
        {
          "output_type": "stream",
          "name": "stdout",
          "text": [
            "Celsius: 32\n",
            "90\n"
          ]
        }
      ],
      "source": [
        "#write a python program that converts the temperature Celsius to Fahrenheit. Create a class name Temperature.\n",
        "#Create Celsius as attribute name, Temp() as method, and temp1 as object name. \n",
        "#F = 1.8xC + 32\n",
        "\n",
        "class Temperature:\n",
        "  def __init__(self, Celsius):\n",
        "    self.Celsius = Celsius\n",
        "\n",
        "  def Temp(self):\n",
        "    result = float((1.8 * self.Celsius) + 32)\n",
        "    return result\n",
        "\n",
        "input_temp = float(input(\"Celsius: \"))\n",
        "temp1 = Temperature(input_temp)\n",
        "print(round(temp1.Temp()))"
      ]
    },
    {
      "cell_type": "code",
      "source": [
        "import math\n",
        "\n",
        "class circle:\n",
        "  def __init__(self, radius):\n",
        "    self.radius = radius\n",
        "\n",
        "  def Area(self):\n",
        "    return(((self.radius**2)*math.pi))\n",
        "  \n",
        "  def Perimeter(self):\n",
        "    return(self.radius*2*math.pi)\n",
        "\n",
        "rad_input = circle (float(input(\"The Radius is: \")))\n",
        "  \n",
        "print(\"The Perimeter is: \" + str(rad_input.Perimeter()))\n",
        "print(\"The Area is: \" + str(rad_input.Area()))\n"
      ],
      "metadata": {
        "colab": {
          "base_uri": "https://localhost:8080/"
        },
        "id": "rwcawO1NUQpM",
        "outputId": "5226c503-2ea0-4871-d43f-dc4d2bbbbf11"
      },
      "execution_count": 25,
      "outputs": [
        {
          "output_type": "stream",
          "name": "stdout",
          "text": [
            "The Radius is: 3\n",
            "The Perimeter is: 18.84955592153876\n",
            "The Area is: 28.274333882308138\n"
          ]
        }
      ]
    }
  ]
}