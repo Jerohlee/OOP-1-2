{
  "nbformat": 4,
  "nbformat_minor": 0,
  "metadata": {
    "colab": {
      "name": "Prelim Exam.ipynb",
      "provenance": [],
      "collapsed_sections": [],
      "authorship_tag": "ABX9TyMOV/+Sj5BX5GLhskRqdQMc",
      "include_colab_link": true
    },
    "kernelspec": {
      "name": "python3",
      "display_name": "Python 3"
    },
    "language_info": {
      "name": "python"
    }
  },
  "cells": [
    {
      "cell_type": "markdown",
      "metadata": {
        "id": "view-in-github",
        "colab_type": "text"
      },
      "source": [
        "<a href=\"https://colab.research.google.com/github/Jerohlee/OOP-1-2/blob/main/Prelim_Exam.ipynb\" target=\"_parent\"><img src=\"https://colab.research.google.com/assets/colab-badge.svg\" alt=\"Open In Colab\"/></a>"
      ]
    },
    {
      "cell_type": "code",
      "execution_count": 40,
      "metadata": {
        "colab": {
          "base_uri": "https://localhost:8080/"
        },
        "id": "b9bxCQh7aITj",
        "outputId": "e60696f4-0c65-46ee-fa1e-89c0fd9eecda"
      },
      "outputs": [
        {
          "output_type": "stream",
          "name": "stdout",
          "text": [
            "Fullname: Jeroh Lee Malabanan Mojica\n",
            "Student Number: 202101648\n",
            "Age: 18 years old\n",
            "School: Cavite State University-Main Campus\n",
            "Course: Bachelor of Science in Computer Engineering\n"
          ]
        }
      ],
      "source": [
        "class Student:\n",
        "  def __init__(self, Fullname, Student_Number, Age, School, Course):\n",
        "    self.Fullname = Fullname\n",
        "    self.Student_Number = Student_Number\n",
        "    self.Age = Age\n",
        "    self.School = School\n",
        "    self.Course = Course\n",
        "\n",
        "class Info(Student):\n",
        "  def info(self):\n",
        "    print(\"Fullname:\", self.Fullname)\n",
        "    print(\"Student Number:\", self.Student_Number)\n",
        "    print(\"Age:\", self.Age)\n",
        "    print(\"School:\", self.School)\n",
        "    print(\"Course:\", self.Course)\n",
        "    \n",
        "myself = Info(\"Jeroh Lee Malabanan Mojica\", \"202101648\", \"18 years old\", \"Cavite State University-Main Campus\", \"Bachelor of Science in Computer Engineering\")\n",
        "myself.info()\n",
        "\n",
        "\n",
        "\n",
        "\n"
      ]
    }
  ]
}