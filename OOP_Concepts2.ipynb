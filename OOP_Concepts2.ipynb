{
  "nbformat": 4,
  "nbformat_minor": 0,
  "metadata": {
    "colab": {
      "name": "OOP Concepts2.ipynb",
      "provenance": [],
      "authorship_tag": "ABX9TyNWau0MWeE+wMDkp+I2W2zk",
      "include_colab_link": true
    },
    "kernelspec": {
      "name": "python3",
      "display_name": "Python 3"
    },
    "language_info": {
      "name": "python"
    }
  },
  "cells": [
    {
      "cell_type": "markdown",
      "metadata": {
        "id": "view-in-github",
        "colab_type": "text"
      },
      "source": [
        "<a href=\"https://colab.research.google.com/github/Jerohlee/OOP-1-2/blob/main/OOP_Concepts2.ipynb\" target=\"_parent\"><img src=\"https://colab.research.google.com/assets/colab-badge.svg\" alt=\"Open In Colab\"/></a>"
      ]
    },
    {
      "cell_type": "code",
      "execution_count": 14,
      "metadata": {
        "colab": {
          "base_uri": "https://localhost:8080/"
        },
        "id": "PCha8nZ_2myL",
        "outputId": "85bd3f48-b5a7-4e94-ff21-a175f47bcff9"
      },
      "outputs": [
        {
          "output_type": "stream",
          "name": "stdout",
          "text": [
            "Lily is beautiful flower\n",
            "Sunflower is pretty flower\n",
            "Rose is beautiful flower\n"
          ]
        }
      ],
      "source": [
        "class Flower:\n",
        "  def __init__(self, flower_name):\n",
        "    self.flower_name = flower_name\n",
        "\n",
        "  def decorative_flower(self):\n",
        "    print(f\"{self.flower_name} is beautiful flower\")\n",
        "\n",
        "  def decorative_flower2(self):\n",
        "    print(f\"{self.flower_name} is pretty flower\")\n",
        "\n",
        "Lily = Flower(\"Lily\")\n",
        "Sunflower = Flower(\"Sunflower\")\n",
        "Rose = Flower(\"Rose\")\n",
        "\n",
        "Lily.decorative_flower()\n",
        "Sunflower.decorative_flower2()\n",
        "Rose.decorative_flower()"
      ]
    },
    {
      "cell_type": "code",
      "source": [
        "class foo:\n",
        "  def __init__(self, a, b):\n",
        "    self.__a = a\n",
        "    self.__b = b\n",
        "\n",
        "  def add(self):\n",
        "    return self.__a + self.__b\n",
        "\n",
        "object_foo = foo(3,4)\n",
        "object_foo.add()\n",
        "\n",
        "object_foo.__a = 6\n",
        "object_foo.__b = 9\n",
        "object_foo.add()"
      ],
      "metadata": {
        "colab": {
          "base_uri": "https://localhost:8080/"
        },
        "id": "Ac7MkAYE5qpP",
        "outputId": "967c1b80-8151-47cc-d117-afa8004e3e99"
      },
      "execution_count": 9,
      "outputs": [
        {
          "output_type": "execute_result",
          "data": {
            "text/plain": [
              "7"
            ]
          },
          "metadata": {},
          "execution_count": 9
        }
      ]
    },
    {
      "cell_type": "code",
      "source": [
        "class Counter:\n",
        "  def __init__(self):\n",
        "    self.current = 0\n",
        "  def increment(self):\n",
        "    self.current += 2\n",
        "  def value(self):\n",
        "    return self.current\n",
        "  def reset(self):\n",
        "    self.current = 0\n",
        "\n",
        "number = Counter()\n",
        "number.__current = 1\n",
        "\n",
        "number.increment()\n",
        "number.increment()\n",
        "number.increment()\n",
        "\n",
        "print(number.value())"
      ],
      "metadata": {
        "colab": {
          "base_uri": "https://localhost:8080/"
        },
        "id": "DkecZSfi5rtK",
        "outputId": "342a1317-1787-435c-d78c-44436880c73d"
      },
      "execution_count": 8,
      "outputs": [
        {
          "output_type": "stream",
          "name": "stdout",
          "text": [
            "6\n"
          ]
        }
      ]
    },
    {
      "cell_type": "code",
      "source": [
        "class Person:\n",
        "  def __init__(self,firstname,surname):\n",
        "    self.firstname = firstname\n",
        "    self.surname = surname\n",
        "\n",
        "  def fullname(self):\n",
        "    print(self.firstname,self.surname)\n",
        "  \n",
        "person = Person(\"Jeroh\",\"Lee\")\n",
        "person.fullname()\n",
        "\n",
        "class Pet(Person):\n",
        "  pass\n",
        "\n",
        "person2 = Pet(\"Lee\",\"Mojii\")\n",
        "person2.fullname()\n",
        "\n",
        "class Partner(Person):\n",
        "  pass\n",
        "\n",
        "person3 = Partner(\"Nanase\",\"Lily\")\n",
        "person3.fullname()"
      ],
      "metadata": {
        "colab": {
          "base_uri": "https://localhost:8080/"
        },
        "id": "NLaQZBWX5tF7",
        "outputId": "ac43adc1-8023-4835-f272-90c8877d62fe"
      },
      "execution_count": 7,
      "outputs": [
        {
          "output_type": "stream",
          "name": "stdout",
          "text": [
            "Jeroh Lee\n",
            "Lee Mojii\n",
            "Nanase Lily\n"
          ]
        }
      ]
    },
    {
      "cell_type": "code",
      "source": [
        "class RegularPolygon:\n",
        "  def __init__(self, side):\n",
        "    self.side = side\n",
        "  \n",
        "class Square(RegularPolygon):\n",
        "  def area(self):\n",
        "    return self.side*self.side\n",
        "\n",
        "class EquilateralTriangle(RegularPolygon):\n",
        "  def area(self):\n",
        "    return self.side*self.side*0.25\n",
        "\n",
        "object = Square(6)\n",
        "print(object.area())\n",
        "\n",
        "object2 = EquilateralTriangle(9)\n",
        "print(object2.area())"
      ],
      "metadata": {
        "colab": {
          "base_uri": "https://localhost:8080/"
        },
        "id": "qZPnFRpW6Q40",
        "outputId": "caefbb95-0370-43ca-8cc0-0937ae1edf1b"
      },
      "execution_count": 4,
      "outputs": [
        {
          "output_type": "stream",
          "name": "stdout",
          "text": [
            "36\n",
            "20.25\n"
          ]
        }
      ]
    },
    {
      "cell_type": "code",
      "source": [
        "class Person:\n",
        "  def __init__(self, firstname, lastname):\n",
        "    self.firstname = firstname\n",
        "    self.lastname = lastname\n",
        "\n",
        "  def fullname(self):\n",
        "    print(self.firstname, self.lastname)\n",
        "\n",
        "std1 = Person(\"Jeroh\", \"Mojica\")\n",
        "std1.fullname()\n",
        "\n",
        "class Student(Person):\n",
        "  pass\n",
        "\n",
        "input_pre = float(input(\"Prelims: \"))\n",
        "input_mid = float(input(\"Midterms: \"))\n",
        "input_fin = float(input(\"Finals: \"))\n",
        "\n",
        "class Average:\n",
        "  def __init__(self, pre, mid, fin):\n",
        "    self.__pre = pre\n",
        "    self.__mid = mid\n",
        "    self.__fin = fin\n",
        "\n",
        "  def Grade(self):\n",
        "    return (self.__pre + self.__mid + self.__fin)/3\n",
        "\n",
        "average = Average(input_pre, input_mid, input_fin)\n",
        "print(\"Average:\",average.Grade())\n",
        "\n",
        "std2 = Person(\"\\Lee\", \"Mojii\")\n",
        "std2.fullname()\n",
        "\n",
        "class Student(Person):\n",
        "  pass\n",
        "\n",
        "input_pre = float(input(\"Prelims: \"))\n",
        "input_mid = float(input(\"Midterms: \"))\n",
        "input_fin = float(input(\"Finals: \"))\n",
        "\n",
        "class Average:\n",
        "  def __init__(self, pre, mid, fin):\n",
        "    self.__pre = pre\n",
        "    self.__mid = mid\n",
        "    self.__fin = fin\n",
        "\n",
        "  def Grade(self):\n",
        "    return (self.__pre + self.__mid + self.__fin)/3\n",
        "\n",
        "average = Average(input_pre, input_mid, input_fin)\n",
        "print(\"Average:\",average.Grade())\n",
        "\n",
        "std3 = Person(\"\\nNanase\", \"Lily\")\n",
        "std3.fullname()\n",
        "\n",
        "class Student(Person):\n",
        "  pass\n",
        "\n",
        "input_pre = float(input(\"Prelims: \"))\n",
        "input_mid = float(input(\"Midterms: \"))\n",
        "input_fin = float(input(\"Finals: \"))\n",
        "\n",
        "class Average:\n",
        "  def __init__(self, pre, mid, fin):\n",
        "    self.__pre = pre\n",
        "    self.__mid = mid\n",
        "    self.__fin = fin\n",
        "\n",
        "  def Grade(self):\n",
        "    return (self.__pre + self.__mid + self.__fin)/3\n",
        "\n",
        "average = Average(input_pre, input_mid, input_fin)\n",
        "print(\"Average:\",average.Grade())"
      ],
      "metadata": {
        "colab": {
          "base_uri": "https://localhost:8080/"
        },
        "id": "OwldAEdN6SIQ",
        "outputId": "07d177e6-7be5-457f-af8e-9f19089f0996"
      },
      "execution_count": 3,
      "outputs": [
        {
          "output_type": "stream",
          "name": "stdout",
          "text": [
            "Jeroh Mojica\n",
            "Prelims: 90\n",
            "Midterms: 91\n",
            "Finals: 92\n",
            "Average: 91.0\n",
            "\\Lee Mojii\n",
            "Prelims: 85\n",
            "Midterms: 87\n",
            "Finals: 83\n",
            "Average: 85.0\n",
            "\n",
            "Nanase Lily\n",
            "Prelims: 95\n",
            "Midterms: 97\n",
            "Finals: 99\n",
            "Average: 97.0\n"
          ]
        }
      ]
    }
  ]
}